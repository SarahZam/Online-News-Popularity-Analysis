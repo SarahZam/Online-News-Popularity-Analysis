{
 "cells": [
  {
   "cell_type": "code",
   "execution_count": 2,
   "id": "executed-diversity",
   "metadata": {},
   "outputs": [],
   "source": [
    " fp = open('OnlineNewsPopularity.csv','r')\n",
    "data_lines = fp.readlines()"
   ]
  },
  {
   "cell_type": "code",
   "execution_count": 4,
   "id": "collective-appearance",
   "metadata": {},
   "outputs": [],
   "source": [
    "feature_names = data_lines[0].split(\",\")\n",
    "feature_count = len(feature_names)\n",
    "instance_count = len(data_lines)"
   ]
  },
  {
   "cell_type": "code",
   "execution_count": 5,
   "id": "pending-marsh",
   "metadata": {},
   "outputs": [
    {
     "data": {
      "text/plain": [
       "['url',\n",
       " ' timedelta',\n",
       " ' n_tokens_title',\n",
       " ' n_tokens_content',\n",
       " ' n_unique_tokens',\n",
       " ' n_non_stop_words',\n",
       " ' n_non_stop_unique_tokens',\n",
       " ' num_hrefs',\n",
       " ' num_self_hrefs',\n",
       " ' num_imgs',\n",
       " ' num_videos',\n",
       " ' average_token_length',\n",
       " ' num_keywords',\n",
       " ' data_channel_is_lifestyle',\n",
       " ' data_channel_is_entertainment',\n",
       " ' data_channel_is_bus',\n",
       " ' data_channel_is_socmed',\n",
       " ' data_channel_is_tech',\n",
       " ' data_channel_is_world',\n",
       " ' kw_min_min',\n",
       " ' kw_max_min',\n",
       " ' kw_avg_min',\n",
       " ' kw_min_max',\n",
       " ' kw_max_max',\n",
       " ' kw_avg_max',\n",
       " ' kw_min_avg',\n",
       " ' kw_max_avg',\n",
       " ' kw_avg_avg',\n",
       " ' self_reference_min_shares',\n",
       " ' self_reference_max_shares',\n",
       " ' self_reference_avg_sharess',\n",
       " ' weekday_is_monday',\n",
       " ' weekday_is_tuesday',\n",
       " ' weekday_is_wednesday',\n",
       " ' weekday_is_thursday',\n",
       " ' weekday_is_friday',\n",
       " ' weekday_is_saturday',\n",
       " ' weekday_is_sunday',\n",
       " ' is_weekend',\n",
       " ' LDA_00',\n",
       " ' LDA_01',\n",
       " ' LDA_02',\n",
       " ' LDA_03',\n",
       " ' LDA_04',\n",
       " ' global_subjectivity',\n",
       " ' global_sentiment_polarity',\n",
       " ' global_rate_positive_words',\n",
       " ' global_rate_negative_words',\n",
       " ' rate_positive_words',\n",
       " ' rate_negative_words',\n",
       " ' avg_positive_polarity',\n",
       " ' min_positive_polarity',\n",
       " ' max_positive_polarity',\n",
       " ' avg_negative_polarity',\n",
       " ' min_negative_polarity',\n",
       " ' max_negative_polarity',\n",
       " ' title_subjectivity',\n",
       " ' title_sentiment_polarity',\n",
       " ' abs_title_subjectivity',\n",
       " ' abs_title_sentiment_polarity',\n",
       " ' shares\\n']"
      ]
     },
     "execution_count": 5,
     "metadata": {},
     "output_type": "execute_result"
    }
   ],
   "source": [
    "feature_names"
   ]
  },
  {
   "cell_type": "code",
   "execution_count": 7,
   "id": "separated-channels",
   "metadata": {},
   "outputs": [],
   "source": [
    "count_label1 = 0\n",
    "count_label2 = 0\n",
    "label = [0 for x in range(instance_count)]\n",
    "sum1 = [0.00 for x in range(feature_count)]\n",
    "sum2 = [0.00 for x in range(feature_count)]\n",
    "mean1 = [0.00 for x in range(feature_count)]\n",
    "mean2 = [0.00 for x in range(feature_count)]\n",
    "s1_squared = [0.00 for x in range(feature_count)]\n",
    "s2_squared = [0.00 for x in range(feature_count)]\n",
    "F = [0.00 for x in range(feature_count)]"
   ]
  },
  {
   "cell_type": "code",
   "execution_count": 8,
   "id": "standing-functionality",
   "metadata": {},
   "outputs": [
    {
     "data": {
      "text/plain": [
       "[0.0,\n",
       " 0.0,\n",
       " 0.0,\n",
       " 0.0,\n",
       " 0.0,\n",
       " 0.0,\n",
       " 0.0,\n",
       " 0.0,\n",
       " 0.0,\n",
       " 0.0,\n",
       " 0.0,\n",
       " 0.0,\n",
       " 0.0,\n",
       " 0.0,\n",
       " 0.0,\n",
       " 0.0,\n",
       " 0.0,\n",
       " 0.0,\n",
       " 0.0,\n",
       " 0.0,\n",
       " 0.0,\n",
       " 0.0,\n",
       " 0.0,\n",
       " 0.0,\n",
       " 0.0,\n",
       " 0.0,\n",
       " 0.0,\n",
       " 0.0,\n",
       " 0.0,\n",
       " 0.0,\n",
       " 0.0,\n",
       " 0.0,\n",
       " 0.0,\n",
       " 0.0,\n",
       " 0.0,\n",
       " 0.0,\n",
       " 0.0,\n",
       " 0.0,\n",
       " 0.0,\n",
       " 0.0,\n",
       " 0.0,\n",
       " 0.0,\n",
       " 0.0,\n",
       " 0.0,\n",
       " 0.0,\n",
       " 0.0,\n",
       " 0.0,\n",
       " 0.0,\n",
       " 0.0,\n",
       " 0.0,\n",
       " 0.0,\n",
       " 0.0,\n",
       " 0.0,\n",
       " 0.0,\n",
       " 0.0,\n",
       " 0.0,\n",
       " 0.0,\n",
       " 0.0,\n",
       " 0.0,\n",
       " 0.0,\n",
       " 0.0]"
      ]
     },
     "execution_count": 8,
     "metadata": {},
     "output_type": "execute_result"
    }
   ],
   "source": [
    "F"
   ]
  },
  {
   "cell_type": "code",
   "execution_count": 10,
   "id": "sudden-minnesota",
   "metadata": {},
   "outputs": [],
   "source": [
    " for i in range(instance_count):\n",
    "        if i != 0:\n",
    "            items = data_lines[i].split(\",\")\n",
    "            # print items[feature_count-1]\n",
    "            if int(items[feature_count-1]) > 1400:\n",
    "                label[i] = 1\n",
    "                count_label1 += 1\n",
    "            else:\n",
    "                label[i] = 2\n",
    "                count_label2 += 1"
   ]
  },
  {
   "cell_type": "code",
   "execution_count": 12,
   "id": "identified-gasoline",
   "metadata": {},
   "outputs": [],
   "source": [
    "for j in range(feature_count):\n",
    "        if j != 0:\n",
    "            for i in range(instance_count):\n",
    "                if i != 0:\n",
    "                    items = data_lines[i].split(\",\")\n",
    "                    val = float(items[j].strip())\n",
    "                    if label[i] == 1:\n",
    "                        sum1[j] += val\n",
    "                    else:\n",
    "                        sum2[j] += val\n",
    "            mean1[j] = sum1[j]/count_label1\n",
    "            mean2[j] = sum2[j]/count_label2\n"
   ]
  },
  {
   "cell_type": "code",
   "execution_count": 14,
   "id": "bibliographic-bangkok",
   "metadata": {},
   "outputs": [],
   "source": [
    "for j in range(feature_count):\n",
    "        if j != 0:\n",
    "            for i in range(instance_count):\n",
    "                if i != 0:\n",
    "                    items = data_lines[i].split(\",\")\n",
    "                    val = float(items[j].strip())\n",
    "                    if label[i] == 1:\n",
    "                        s1_squared[j] += (val-mean1[j])*(val-mean1[j])\n",
    "                    else:\n",
    "                        s2_squared[j] += (val-mean2[j])*(val-mean2[j])\n",
    "            F[j] = ((mean1[j] - mean2[j])*(mean1[j] - mean2[j]))/(s1_squared[j] + s2_squared[j])\n"
   ]
  },
  {
   "cell_type": "code",
   "execution_count": 17,
   "id": "neutral-purpose",
   "metadata": {},
   "outputs": [
    {
     "ename": "SyntaxError",
     "evalue": "invalid syntax (<ipython-input-17-d909aab71839>, line 7)",
     "output_type": "error",
     "traceback": [
      "\u001b[1;36m  File \u001b[1;32m\"<ipython-input-17-d909aab71839>\"\u001b[1;36m, line \u001b[1;32m7\u001b[0m\n\u001b[1;33m    print str(key).lstrip() + ',' + str(value)\u001b[0m\n\u001b[1;37m          ^\u001b[0m\n\u001b[1;31mSyntaxError\u001b[0m\u001b[1;31m:\u001b[0m invalid syntax\n"
     ]
    }
   ],
   "source": [
    "mapping = dict(zip(feature_names, F))\n",
    "sorted_mapping = sorted(mapping.items(), key=operator.itemgetter(1))\n",
    "sorted_mapping.reverse()\n",
    "i = 0\n"
   ]
  },
  {
   "cell_type": "code",
   "execution_count": null,
   "id": "harmful-burns",
   "metadata": {},
   "outputs": [],
   "source": []
  }
 ],
 "metadata": {
  "kernelspec": {
   "display_name": "Python 3",
   "language": "python",
   "name": "python3"
  },
  "language_info": {
   "codemirror_mode": {
    "name": "ipython",
    "version": 3
   },
   "file_extension": ".py",
   "mimetype": "text/x-python",
   "name": "python",
   "nbconvert_exporter": "python",
   "pygments_lexer": "ipython3",
   "version": "3.9.1"
  }
 },
 "nbformat": 4,
 "nbformat_minor": 5
}
